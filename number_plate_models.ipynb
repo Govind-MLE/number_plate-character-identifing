{
 "cells": [
  {
   "cell_type": "code",
   "execution_count": 1,
   "id": "430be6f5",
   "metadata": {},
   "outputs": [],
   "source": [
    "import tensorflow as tf\n",
    "import numpy as np\n",
    "import pandas as pd\n",
    "import tensorflow as tf\n",
    "from tensorflow.keras.preprocessing.image import ImageDataGenerator\n",
    "from tensorflow.keras import Sequential\n",
    "from tensorflow.keras.layers import Conv2D,Dense,MaxPool2D,Flatten,Dropout\n",
    "from tensorflow.keras.regularizers import l2"
   ]
  },
  {
   "cell_type": "code",
   "execution_count": 45,
   "id": "a2fd8ce6",
   "metadata": {},
   "outputs": [
    {
     "name": "stdout",
     "output_type": "stream",
     "text": [
      "Found 7730 images belonging to 26 classes.\n",
      "Found 920 images belonging to 26 classes.\n"
     ]
    }
   ],
   "source": [
    "train_dir = r\"C:\\Users\\gopic\\Desktop\\ml intern training\\data set\\English.Alphabet.Dataset\\English Alphabet Dataset\"\n",
    "test_dir = r\"C:\\Users\\gopic\\Desktop\\ml intern training\\data set\\LicensePlateDetector-master1\\LicensePlateDetector-master\\train20X20\"\n",
    "train_datagen = ImageDataGenerator(rescale=(1/255.),shear_range = 0.2,zoom_range=0.2,\n",
    "                                   horizontal_flip=True)\n",
    "training_set = train_datagen.flow_from_directory(directory = train_dir,target_size=(60,60),\n",
    "                                                batch_size=32,\n",
    "                                                class_mode = \"binary\")\n",
    "test_datagen = ImageDataGenerator(rescale=(1/255.))\n",
    "test_set = test_datagen.flow_from_directory(directory = test_dir,target_size=(60,60),batch_size=32,class_mode = \"binary\")"
   ]
  },
  {
   "cell_type": "code",
   "execution_count": 46,
   "id": "da2950a8",
   "metadata": {},
   "outputs": [
    {
     "data": {
      "text/plain": [
       "<keras.preprocessing.image.DirectoryIterator at 0x2d3ed0c9960>"
      ]
     },
     "execution_count": 46,
     "metadata": {},
     "output_type": "execute_result"
    }
   ],
   "source": [
    "training_set"
   ]
  },
  {
   "cell_type": "code",
   "execution_count": 47,
   "id": "ece62246",
   "metadata": {},
   "outputs": [],
   "source": [
    "model = tf.keras.Sequential([\n",
    "    tf.keras.layers.Conv2D(32, (3,3), padding='same', activation=tf.nn.relu,\n",
    "                           input_shape=(60,60, 3)),\n",
    "    tf.keras.layers.MaxPooling2D((2, 2), strides=2),\n",
    "    tf.keras.layers.Conv2D(32, (3,3), padding='same', activation=tf.nn.relu),\n",
    "    tf.keras.layers.MaxPooling2D((2, 2), strides=2),\n",
    "    tf.keras.layers.Dropout(0.5),\n",
    "    tf.keras.layers.Flatten(),\n",
    "    tf.keras.layers.Dense(128, activation=tf.nn.relu),\n",
    "    tf.keras.layers.Dense(26,kernel_regularizer=l2(0.01),activation=tf.nn.softmax)\n",
    "])\n",
    "model.compile(optimizer='adam',loss='sparse_categorical_crossentropy',metrics=['accuracy'])"
   ]
  },
  {
   "cell_type": "code",
   "execution_count": 48,
   "id": "924e4858",
   "metadata": {},
   "outputs": [
    {
     "name": "stdout",
     "output_type": "stream",
     "text": [
      "Epoch 1/5\n",
      "242/242 [==============================] - 122s 498ms/step - loss: 0.9974 - accuracy: 0.7894 - val_loss: 0.6020 - val_accuracy: 0.8783\n",
      "Epoch 2/5\n",
      "242/242 [==============================] - 92s 377ms/step - loss: 0.2891 - accuracy: 0.9595 - val_loss: 0.4632 - val_accuracy: 0.9141\n",
      "Epoch 3/5\n",
      "242/242 [==============================] - 97s 399ms/step - loss: 0.2050 - accuracy: 0.9794 - val_loss: 0.3671 - val_accuracy: 0.9228\n",
      "Epoch 4/5\n",
      "242/242 [==============================] - 94s 387ms/step - loss: 0.1576 - accuracy: 0.9851 - val_loss: 0.4635 - val_accuracy: 0.8826\n",
      "Epoch 5/5\n",
      "242/242 [==============================] - 94s 389ms/step - loss: 0.1364 - accuracy: 0.9868 - val_loss: 0.3873 - val_accuracy: 0.8989\n"
     ]
    }
   ],
   "source": [
    "history = model.fit(training_set,validation_data=test_set,epochs=5)"
   ]
  },
  {
   "cell_type": "code",
   "execution_count": 49,
   "id": "a93ca7fc",
   "metadata": {},
   "outputs": [],
   "source": [
    "from matplotlib.image import imread"
   ]
  },
  {
   "cell_type": "code",
   "execution_count": 25,
   "id": "980e662d",
   "metadata": {},
   "outputs": [],
   "source": [
    "img=imread(r\"C:\\Users\\gopic\\Desktop\\ml intern training\\data set\\English.Alphabet.Dataset\\English Alphabet Dataset\\M\\m.png\")\n",
    "img=img[:,:,:3]"
   ]
  },
  {
   "cell_type": "code",
   "execution_count": 26,
   "id": "8cc7d6b6",
   "metadata": {},
   "outputs": [
    {
     "data": {
      "text/plain": [
       "(81, 44, 3)"
      ]
     },
     "execution_count": 26,
     "metadata": {},
     "output_type": "execute_result"
    }
   ],
   "source": [
    "img.shape"
   ]
  },
  {
   "cell_type": "code",
   "execution_count": 10,
   "id": "8de217a5",
   "metadata": {},
   "outputs": [],
   "source": [
    "import cv2\n",
    "import matplotlib.pyplot as plt\n",
    "import numpy as np"
   ]
  },
  {
   "cell_type": "code",
   "execution_count": 32,
   "id": "eb87b205",
   "metadata": {},
   "outputs": [
    {
     "data": {
      "text/plain": [
       "(1, 60, 60, 3)"
      ]
     },
     "execution_count": 32,
     "metadata": {},
     "output_type": "execute_result"
    },
    {
     "data": {
      "image/png": "[encoded data removed]",
      "text/plain": [
       "<Figure size 640x480 with 1 Axes>"
      ]
     },
     "metadata": {},
     "output_type": "display_data"
    }
   ],
   "source": [
    "aa=cv2.resize(img,(60,60))\n",
    "aaa=aa.reshape((1,60,60,3))\n",
    "#color_image = np.repeat(aaa, 3, axis=-1)\n",
    "plt.imshow(aa,cmap='gray')\n",
    "aaa.shape"
   ]
  },
  {
   "cell_type": "code",
   "execution_count": 33,
   "id": "fc32f973",
   "metadata": {},
   "outputs": [
    {
     "name": "stdout",
     "output_type": "stream",
     "text": [
      "1/1 [==============================] - 0s 173ms/step\n"
     ]
    },
    {
     "data": {
      "text/plain": [
       "12"
      ]
     },
     "execution_count": 33,
     "metadata": {},
     "output_type": "execute_result"
    }
   ],
   "source": [
    "pred=model.predict(aaa)\n",
    "pred.argmax()"
   ]
  },
  {
   "cell_type": "code",
   "execution_count": 50,
   "id": "13425361",
   "metadata": {},
   "outputs": [
    {
     "name": "stderr",
     "output_type": "stream",
     "text": [
      "WARNING:absl:Found untraced functions such as _jit_compiled_convolution_op, _jit_compiled_convolution_op while saving (showing 2 of 2). These functions will not be directly callable after loading.\n"
     ]
    },
    {
     "name": "stdout",
     "output_type": "stream",
     "text": [
      "INFO:tensorflow:Assets written to: C:\\Users\\gopic\\Desktop\\ml intern training\\pretrained_models\\text\\assets\n"
     ]
    },
    {
     "name": "stderr",
     "output_type": "stream",
     "text": [
      "INFO:tensorflow:Assets written to: C:\\Users\\gopic\\Desktop\\ml intern training\\pretrained_models\\text\\assets\n"
     ]
    }
   ],
   "source": [
    "model.save(r\"C:\\Users\\gopic\\Desktop\\ml intern training\\pretrained_models\\text\")"
   ]
  },
  {
   "cell_type": "markdown",
   "id": "997ed204",
   "metadata": {},
   "source": [
    "# number classification"
   ]
  },
  {
   "cell_type": "code",
   "execution_count": 51,
   "id": "e628efe9",
   "metadata": {},
   "outputs": [
    {
     "name": "stdout",
     "output_type": "stream",
     "text": [
      "Found 3198 images belonging to 10 classes.\n",
      "Found 300 images belonging to 10 classes.\n"
     ]
    }
   ],
   "source": [
    "train_dir = r\"C:\\Users\\gopic\\Desktop\\ml intern training\\data set\\number_data\\train\"\n",
    "test_dir = r\"C:\\Users\\gopic\\Desktop\\ml intern training\\data set\\number_data\\test\"\n",
    "train_datagen = ImageDataGenerator(rescale=(1/255.),shear_range = 0.2,zoom_range=0.2,\n",
    "                                   horizontal_flip=True)\n",
    "training_set = train_datagen.flow_from_directory(directory = train_dir,target_size=(60,60),\n",
    "                                                batch_size=32,\n",
    "                                                class_mode = \"binary\")\n",
    "test_datagen = ImageDataGenerator(rescale=(1/255.))\n",
    "test_set = test_datagen.flow_from_directory(directory = test_dir,target_size=(60,60),batch_size=32,class_mode = \"binary\")"
   ]
  },
  {
   "cell_type": "code",
   "execution_count": 52,
   "id": "c27bf60f",
   "metadata": {},
   "outputs": [],
   "source": [
    "model_num = tf.keras.Sequential([\n",
    "    tf.keras.layers.Conv2D(32, (3,3), padding='same', activation=tf.nn.relu,\n",
    "                           input_shape=(60,60, 3)),\n",
    "    tf.keras.layers.MaxPooling2D((2, 2), strides=2),\n",
    "    tf.keras.layers.Conv2D(32, (3,3), padding='same', activation=tf.nn.relu),\n",
    "    tf.keras.layers.MaxPooling2D((2, 2), strides=2),\n",
    "    tf.keras.layers.Dropout(0.5),\n",
    "    tf.keras.layers.Flatten(),\n",
    "    tf.keras.layers.Dense(128, activation=tf.nn.relu),\n",
    "    tf.keras.layers.Dense(10,kernel_regularizer=l2(0.01),activation=tf.nn.softmax)\n",
    "])\n",
    "model_num.compile(optimizer='adam',loss='sparse_categorical_crossentropy',metrics=['accuracy'])"
   ]
  },
  {
   "cell_type": "code",
   "execution_count": 53,
   "id": "a011f656",
   "metadata": {},
   "outputs": [
    {
     "name": "stdout",
     "output_type": "stream",
     "text": [
      "Epoch 1/5\n",
      "100/100 [==============================] - 38s 358ms/step - loss: 0.7444 - accuracy: 0.8186 - val_loss: 0.1392 - val_accuracy: 0.9967\n",
      "Epoch 2/5\n",
      "100/100 [==============================] - 31s 311ms/step - loss: 0.1630 - accuracy: 0.9822 - val_loss: 0.0873 - val_accuracy: 1.0000\n",
      "Epoch 3/5\n",
      "100/100 [==============================] - 32s 322ms/step - loss: 0.1105 - accuracy: 0.9897 - val_loss: 0.0730 - val_accuracy: 1.0000\n",
      "Epoch 4/5\n",
      "100/100 [==============================] - 32s 323ms/step - loss: 0.0824 - accuracy: 0.9959 - val_loss: 0.0627 - val_accuracy: 1.0000\n",
      "Epoch 5/5\n",
      "100/100 [==============================] - 34s 335ms/step - loss: 0.0757 - accuracy: 0.9941 - val_loss: 0.0558 - val_accuracy: 1.0000\n"
     ]
    }
   ],
   "source": [
    "history = model_num.fit(training_set,validation_data=test_set,epochs=5)"
   ]
  },
  {
   "cell_type": "code",
   "execution_count": 54,
   "id": "05e48405",
   "metadata": {},
   "outputs": [
    {
     "name": "stderr",
     "output_type": "stream",
     "text": [
      "WARNING:absl:Found untraced functions such as _jit_compiled_convolution_op, _jit_compiled_convolution_op while saving (showing 2 of 2). These functions will not be directly callable after loading.\n"
     ]
    },
    {
     "name": "stdout",
     "output_type": "stream",
     "text": [
      "INFO:tensorflow:Assets written to: C:\\Users\\gopic\\Desktop\\ml intern training\\pretrained_models\\num\\assets\n"
     ]
    },
    {
     "name": "stderr",
     "output_type": "stream",
     "text": [
      "INFO:tensorflow:Assets written to: C:\\Users\\gopic\\Desktop\\ml intern training\\pretrained_models\\num\\assets\n"
     ]
    }
   ],
   "source": [
    "model_num.save(r\"C:\\Users\\gopic\\Desktop\\ml intern training\\pretrained_models\\num\")"
   ]
  },
  {
   "cell_type": "code",
   "execution_count": null,
   "id": "e34c7b67",
   "metadata": {},
   "outputs": [],
   "source": []
  },
  {
   "cell_type": "code",
   "execution_count": null,
   "id": "0be656b9",
   "metadata": {},
   "outputs": [],
   "source": []
  },
  {
   "cell_type": "code",
   "execution_count": null,
   "id": "511f2641",
   "metadata": {},
   "outputs": [],
   "source": []
  },
  {
   "cell_type": "code",
   "execution_count": null,
   "id": "a7a6cd46",
   "metadata": {},
   "outputs": [],
   "source": []
  },
  {
   "cell_type": "code",
   "execution_count": null,
   "id": "43fa277d",
   "metadata": {},
   "outputs": [],
   "source": []
  }
 ],
 "metadata": {
  "kernelspec": {
   "display_name": "Python 3 (ipykernel)",
   "language": "python",
   "name": "python3"
  },
  "language_info": {
   "codemirror_mode": {
    "name": "ipython",
    "version": 3
   },
   "file_extension": ".py",
   "mimetype": "text/x-python",
   "name": "python",
   "nbconvert_exporter": "python",
   "pygments_lexer": "ipython3",
   "version": "3.10.9"
  }
 },
 "nbformat": 4,
 "nbformat_minor": 5
}
